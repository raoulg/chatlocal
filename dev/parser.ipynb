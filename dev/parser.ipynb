{
 "cells": [
  {
   "cell_type": "code",
   "execution_count": 1,
   "metadata": {},
   "outputs": [
    {
     "name": "stdout",
     "output_type": "stream",
     "text": [
      "{'folder': '~/Documents/SCEPA/papers', 'store_file': 'scepa.pkl', 'filetypes': ['.md', '.pdf'], 'chunksize': 1500}\n"
     ]
    }
   ],
   "source": [
    "import toml\n",
    "with open(\"chatlocal.toml\") as f:\n",
    "    data = toml.loads(f.read())\n",
    "print(data)"
   ]
  },
  {
   "cell_type": "code",
   "execution_count": 2,
   "metadata": {},
   "outputs": [],
   "source": [
    "from chatlocal.settings import UserConfig\n",
    "from chatlocal.dataloader import read_toml"
   ]
  },
  {
   "cell_type": "code",
   "execution_count": 3,
   "metadata": {},
   "outputs": [
    {
     "name": "stderr",
     "output_type": "stream",
     "text": [
      "\u001b[32m2023-09-21 12:25:54.910\u001b[0m | \u001b[31m\u001b[1mERROR   \u001b[0m | \u001b[36mchatlocal.settings\u001b[0m:\u001b[36mcheck_folder\u001b[0m:\u001b[36m126\u001b[0m - \u001b[31m\u001b[1mfolder ~/Documents/SCEPA/papers does not exist\u001b[0m\n",
      "\u001b[32m2023-09-21 12:25:54.910\u001b[0m | \u001b[1mINFO    \u001b[0m | \u001b[36mchatlocal.settings\u001b[0m:\u001b[36mcheck_folder\u001b[0m:\u001b[36m127\u001b[0m - \u001b[1musing folder ~/Documents/SCEPA/papers\u001b[0m\n"
     ]
    },
    {
     "data": {
      "text/plain": [
       "folder: ~/Documents/SCEPA/papers\n",
       "filetypes: ['.md', '.pdf']\n",
       "store_file: scepa.pkl\n",
       "chunk_size: 1500"
      ]
     },
     "execution_count": 3,
     "metadata": {},
     "output_type": "execute_result"
    }
   ],
   "source": [
    "UserConfig(**read_toml())"
   ]
  },
  {
   "cell_type": "code",
   "execution_count": 1,
   "metadata": {},
   "outputs": [],
   "source": [
    "from chatlocal.settings import ParserSettings, FileType"
   ]
  },
  {
   "cell_type": "code",
   "execution_count": 2,
   "metadata": {},
   "outputs": [],
   "source": [
    "textfiles = [FileType.MD]"
   ]
  },
  {
   "cell_type": "code",
   "execution_count": 3,
   "metadata": {},
   "outputs": [],
   "source": [
    "settings = ParserSettings(textfiles=textfiles,\n",
    "                    wordfiles=textfiles,\n",
    "                    pdffiles=textfiles,\n",
    "                    jupyterfiles=textfiles,)"
   ]
  },
  {
   "cell_type": "code",
   "execution_count": 4,
   "metadata": {},
   "outputs": [
    {
     "data": {
      "text/plain": [
       "textfiles: [<FileType.MD: '.md'>]\n",
       "wordfiles: [<FileType.MD: '.md'>]\n",
       "pdffiles: [<FileType.MD: '.md'>]\n",
       "jupyterfiles: [<FileType.MD: '.md'>]\n",
       "ignore_dirs: ['.git', '__pycache__', '.ipynb_checkpoints', '.pytest_cache', '.mypy_cache', '.vscode', 'venv', 'env']"
      ]
     },
     "execution_count": 4,
     "metadata": {},
     "output_type": "execute_result"
    }
   ],
   "source": [
    "settings"
   ]
  },
  {
   "cell_type": "code",
   "execution_count": 2,
   "metadata": {},
   "outputs": [],
   "source": []
  },
  {
   "cell_type": "code",
   "execution_count": 4,
   "metadata": {},
   "outputs": [
    {
     "name": "stdout",
     "output_type": "stream",
     "text": [
      "{'storage': {'folder': '~/Documents/SCEPA/papers', 'store_file': 'scepa.pkl'}, 'parser': {'types': ['.md', '.pdf'], 'chunksize': 1500}}\n"
     ]
    }
   ],
   "source": []
  },
  {
   "cell_type": "code",
   "execution_count": 7,
   "metadata": {},
   "outputs": [
    {
     "data": {
      "text/plain": [
       "'~/Documents/SCEPA/papers'"
      ]
     },
     "execution_count": 7,
     "metadata": {},
     "output_type": "execute_result"
    }
   ],
   "source": [
    "data[\"storage\"][\"folder\"]"
   ]
  },
  {
   "cell_type": "code",
   "execution_count": null,
   "metadata": {},
   "outputs": [],
   "source": []
  }
 ],
 "metadata": {
  "kernelspec": {
   "display_name": ".venv",
   "language": "python",
   "name": "python3"
  },
  "language_info": {
   "codemirror_mode": {
    "name": "ipython",
    "version": 3
   },
   "file_extension": ".py",
   "mimetype": "text/x-python",
   "name": "python",
   "nbconvert_exporter": "python",
   "pygments_lexer": "ipython3",
   "version": "3.10.12"
  },
  "orig_nbformat": 4
 },
 "nbformat": 4,
 "nbformat_minor": 2
}
