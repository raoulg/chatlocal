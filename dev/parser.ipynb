{
 "cells": [
  {
   "cell_type": "code",
   "execution_count": 1,
   "metadata": {},
   "outputs": [],
   "source": [
    "from chatlocal.settings import ParserSettings, FileType"
   ]
  },
  {
   "cell_type": "code",
   "execution_count": 2,
   "metadata": {},
   "outputs": [],
   "source": [
    "textfiles = [FileType.MD]"
   ]
  },
  {
   "cell_type": "code",
   "execution_count": 3,
   "metadata": {},
   "outputs": [],
   "source": [
    "settings = ParserSettings(textfiles=textfiles,\n",
    "                    wordfiles=textfiles,\n",
    "                    pdffiles=textfiles,\n",
    "                    jupyterfiles=textfiles,)"
   ]
  },
  {
   "cell_type": "code",
   "execution_count": 4,
   "metadata": {},
   "outputs": [
    {
     "data": {
      "text/plain": [
       "textfiles: [<FileType.MD: '.md'>]\n",
       "wordfiles: [<FileType.MD: '.md'>]\n",
       "pdffiles: [<FileType.MD: '.md'>]\n",
       "jupyterfiles: [<FileType.MD: '.md'>]\n",
       "ignore_dirs: ['.git', '__pycache__', '.ipynb_checkpoints', '.pytest_cache', '.mypy_cache', '.vscode', 'venv', 'env']"
      ]
     },
     "execution_count": 4,
     "metadata": {},
     "output_type": "execute_result"
    }
   ],
   "source": [
    "settings"
   ]
  },
  {
   "cell_type": "code",
   "execution_count": 2,
   "metadata": {},
   "outputs": [],
   "source": [
    "import toml"
   ]
  },
  {
   "cell_type": "code",
   "execution_count": 4,
   "metadata": {},
   "outputs": [
    {
     "name": "stdout",
     "output_type": "stream",
     "text": [
      "{'folder': '~/code/curicculum', 'types': ['.md', '.pdf']}\n"
     ]
    }
   ],
   "source": [
    "with open(\"../chatlocal.toml\") as f:\n",
    "    data = toml.loads(f.read())\n",
    "print(data)"
   ]
  },
  {
   "cell_type": "code",
   "execution_count": null,
   "metadata": {},
   "outputs": [],
   "source": []
  }
 ],
 "metadata": {
  "kernelspec": {
   "display_name": ".venv",
   "language": "python",
   "name": "python3"
  },
  "language_info": {
   "codemirror_mode": {
    "name": "ipython",
    "version": 3
   },
   "file_extension": ".py",
   "mimetype": "text/x-python",
   "name": "python",
   "nbconvert_exporter": "python",
   "pygments_lexer": "ipython3",
   "version": "3.10.12"
  },
  "orig_nbformat": 4
 },
 "nbformat": 4,
 "nbformat_minor": 2
}
